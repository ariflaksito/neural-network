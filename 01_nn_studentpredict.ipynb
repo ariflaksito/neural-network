{
  "nbformat": 4,
  "nbformat_minor": 0,
  "metadata": {
    "kernelspec": {
      "display_name": "Python 3",
      "language": "python",
      "name": "python3"
    },
    "language_info": {
      "codemirror_mode": {
        "name": "ipython",
        "version": 3
      },
      "file_extension": ".py",
      "mimetype": "text/x-python",
      "name": "python",
      "nbconvert_exporter": "python",
      "pygments_lexer": "ipython3",
      "version": "3.7.6"
    },
    "colab": {
      "name": "01_nn_studentpredict.ipynb",
      "provenance": [],
      "include_colab_link": true
    }
  },
  "cells": [
    {
      "cell_type": "markdown",
      "metadata": {
        "id": "view-in-github",
        "colab_type": "text"
      },
      "source": [
        "<a href=\"https://colab.research.google.com/github/ariflaksito/neural-network/blob/master/01_nn_studentpredict.ipynb\" target=\"_parent\"><img src=\"https://colab.research.google.com/assets/colab-badge.svg\" alt=\"Open In Colab\"/></a>"
      ]
    },
    {
      "cell_type": "markdown",
      "metadata": {
        "id": "7MmRqVf5NPla",
        "colab_type": "text"
      },
      "source": [
        "# Neural Network\n",
        "Prediksi kelulusan mahasiswa tepat waktu"
      ]
    },
    {
      "cell_type": "code",
      "metadata": {
        "id": "6eOzGhBfNPlc",
        "colab_type": "code",
        "colab": {}
      },
      "source": [
        "# import library\n",
        "import pandas as pd\n",
        "import numpy as np"
      ],
      "execution_count": 0,
      "outputs": []
    },
    {
      "cell_type": "code",
      "metadata": {
        "id": "RgTKXRb5NPlh",
        "colab_type": "code",
        "colab": {}
      },
      "source": [
        "# Membaca data dari file excel\n",
        "data = pd.read_excel('Data-5K-shared.xlsx')"
      ],
      "execution_count": 0,
      "outputs": []
    },
    {
      "cell_type": "code",
      "metadata": {
        "id": "x7wnE5gJNPll",
        "colab_type": "code",
        "colab": {},
        "outputId": "451d480c-e827-409f-8ff1-2f32cd4c0c36"
      },
      "source": [
        "data.head()"
      ],
      "execution_count": 0,
      "outputs": [
        {
          "output_type": "execute_result",
          "data": {
            "text/html": [
              "<div>\n",
              "<style scoped>\n",
              "    .dataframe tbody tr th:only-of-type {\n",
              "        vertical-align: middle;\n",
              "    }\n",
              "\n",
              "    .dataframe tbody tr th {\n",
              "        vertical-align: top;\n",
              "    }\n",
              "\n",
              "    .dataframe thead th {\n",
              "        text-align: right;\n",
              "    }\n",
              "</style>\n",
              "<table border=\"1\" class=\"dataframe\">\n",
              "  <thead>\n",
              "    <tr style=\"text-align: right;\">\n",
              "      <th></th>\n",
              "      <th>ANGKATAN</th>\n",
              "      <th>JK</th>\n",
              "      <th>TGLAHIR</th>\n",
              "      <th>TGLULUS</th>\n",
              "      <th>IPK1</th>\n",
              "      <th>IPK2</th>\n",
              "      <th>IPK3</th>\n",
              "      <th>IPK4</th>\n",
              "      <th>SKS</th>\n",
              "    </tr>\n",
              "  </thead>\n",
              "  <tbody>\n",
              "    <tr>\n",
              "      <th>0</th>\n",
              "      <td>2013</td>\n",
              "      <td>L</td>\n",
              "      <td>1993-10-14 00:00:00</td>\n",
              "      <td>2016-09-26</td>\n",
              "      <td>3.500000</td>\n",
              "      <td>3.833333</td>\n",
              "      <td>4.000000</td>\n",
              "      <td>3.500000</td>\n",
              "      <td>144</td>\n",
              "    </tr>\n",
              "    <tr>\n",
              "      <th>1</th>\n",
              "      <td>2013</td>\n",
              "      <td>L</td>\n",
              "      <td>1995-05-06 00:00:00</td>\n",
              "      <td>2017-03-25</td>\n",
              "      <td>3.500000</td>\n",
              "      <td>3.750000</td>\n",
              "      <td>3.333333</td>\n",
              "      <td>3.250000</td>\n",
              "      <td>144</td>\n",
              "    </tr>\n",
              "    <tr>\n",
              "      <th>2</th>\n",
              "      <td>2013</td>\n",
              "      <td>L</td>\n",
              "      <td>1995-01-31 00:00:00</td>\n",
              "      <td>2016-09-26</td>\n",
              "      <td>3.166667</td>\n",
              "      <td>3.083333</td>\n",
              "      <td>3.333333</td>\n",
              "      <td>3.250000</td>\n",
              "      <td>144</td>\n",
              "    </tr>\n",
              "    <tr>\n",
              "      <th>3</th>\n",
              "      <td>2013</td>\n",
              "      <td>P</td>\n",
              "      <td>1996-01-22 00:00:00</td>\n",
              "      <td>2016-12-24</td>\n",
              "      <td>3.500000</td>\n",
              "      <td>3.250000</td>\n",
              "      <td>3.500000</td>\n",
              "      <td>3.416667</td>\n",
              "      <td>144</td>\n",
              "    </tr>\n",
              "    <tr>\n",
              "      <th>4</th>\n",
              "      <td>2013</td>\n",
              "      <td>L</td>\n",
              "      <td>1995-06-15 00:00:00</td>\n",
              "      <td>NaT</td>\n",
              "      <td>3.083333</td>\n",
              "      <td>3.083333</td>\n",
              "      <td>3.000000</td>\n",
              "      <td>2.000000</td>\n",
              "      <td>126</td>\n",
              "    </tr>\n",
              "  </tbody>\n",
              "</table>\n",
              "</div>"
            ],
            "text/plain": [
              "   ANGKATAN JK              TGLAHIR    TGLULUS      IPK1      IPK2      IPK3  \\\n",
              "0      2013  L  1993-10-14 00:00:00 2016-09-26  3.500000  3.833333  4.000000   \n",
              "1      2013  L  1995-05-06 00:00:00 2017-03-25  3.500000  3.750000  3.333333   \n",
              "2      2013  L  1995-01-31 00:00:00 2016-09-26  3.166667  3.083333  3.333333   \n",
              "3      2013  P  1996-01-22 00:00:00 2016-12-24  3.500000  3.250000  3.500000   \n",
              "4      2013  L  1995-06-15 00:00:00        NaT  3.083333  3.083333  3.000000   \n",
              "\n",
              "       IPK4  SKS  \n",
              "0  3.500000  144  \n",
              "1  3.250000  144  \n",
              "2  3.250000  144  \n",
              "3  3.416667  144  \n",
              "4  2.000000  126  "
            ]
          },
          "metadata": {
            "tags": []
          },
          "execution_count": 3
        }
      ]
    },
    {
      "cell_type": "code",
      "metadata": {
        "id": "3KqvJqGNNPlr",
        "colab_type": "code",
        "colab": {},
        "outputId": "90af4541-4f0e-44b2-bd83-1448bea26ce3"
      },
      "source": [
        "data.shape"
      ],
      "execution_count": 0,
      "outputs": [
        {
          "output_type": "execute_result",
          "data": {
            "text/plain": [
              "(5125, 9)"
            ]
          },
          "metadata": {
            "tags": []
          },
          "execution_count": 4
        }
      ]
    },
    {
      "cell_type": "code",
      "metadata": {
        "id": "WQ-B0og4NPlv",
        "colab_type": "code",
        "colab": {},
        "outputId": "c17529ea-01a4-4247-a05c-0c33d1022acc"
      },
      "source": [
        "data.dtypes"
      ],
      "execution_count": 0,
      "outputs": [
        {
          "output_type": "execute_result",
          "data": {
            "text/plain": [
              "ANGKATAN             int64\n",
              "JK                  object\n",
              "TGLAHIR             object\n",
              "TGLULUS     datetime64[ns]\n",
              "IPK1               float64\n",
              "IPK2               float64\n",
              "IPK3               float64\n",
              "IPK4               float64\n",
              "SKS                  int64\n",
              "dtype: object"
            ]
          },
          "metadata": {
            "tags": []
          },
          "execution_count": 5
        }
      ]
    },
    {
      "cell_type": "markdown",
      "metadata": {
        "id": "OZHRcMfjNPlz",
        "colab_type": "text"
      },
      "source": [
        "## Proses Cleaning Data"
      ]
    },
    {
      "cell_type": "code",
      "metadata": {
        "id": "g94YEcUVNPl0",
        "colab_type": "code",
        "colab": {},
        "outputId": "56ffc4e8-a621-42a6-ec96-9d7c9d07b739"
      },
      "source": [
        "# Melihat data yang tglulus kosong\n",
        "# Diasumsikan sampai saat ini tidak lulus\n",
        "data[data.TGLULUS.isnull()]"
      ],
      "execution_count": 0,
      "outputs": [
        {
          "output_type": "execute_result",
          "data": {
            "text/html": [
              "<div>\n",
              "<style scoped>\n",
              "    .dataframe tbody tr th:only-of-type {\n",
              "        vertical-align: middle;\n",
              "    }\n",
              "\n",
              "    .dataframe tbody tr th {\n",
              "        vertical-align: top;\n",
              "    }\n",
              "\n",
              "    .dataframe thead th {\n",
              "        text-align: right;\n",
              "    }\n",
              "</style>\n",
              "<table border=\"1\" class=\"dataframe\">\n",
              "  <thead>\n",
              "    <tr style=\"text-align: right;\">\n",
              "      <th></th>\n",
              "      <th>ANGKATAN</th>\n",
              "      <th>JK</th>\n",
              "      <th>TGLAHIR</th>\n",
              "      <th>TGLULUS</th>\n",
              "      <th>IPK1</th>\n",
              "      <th>IPK2</th>\n",
              "      <th>IPK3</th>\n",
              "      <th>IPK4</th>\n",
              "      <th>SKS</th>\n",
              "    </tr>\n",
              "  </thead>\n",
              "  <tbody>\n",
              "    <tr>\n",
              "      <th>4</th>\n",
              "      <td>2013</td>\n",
              "      <td>L</td>\n",
              "      <td>1995-06-15 00:00:00</td>\n",
              "      <td>NaT</td>\n",
              "      <td>3.083333</td>\n",
              "      <td>3.083333</td>\n",
              "      <td>3.000000</td>\n",
              "      <td>2.000000</td>\n",
              "      <td>126</td>\n",
              "    </tr>\n",
              "    <tr>\n",
              "      <th>7</th>\n",
              "      <td>2013</td>\n",
              "      <td>L</td>\n",
              "      <td>2013-02-23 00:00:00</td>\n",
              "      <td>NaT</td>\n",
              "      <td>3.333333</td>\n",
              "      <td>3.416667</td>\n",
              "      <td>3.750000</td>\n",
              "      <td>3.333333</td>\n",
              "      <td>146</td>\n",
              "    </tr>\n",
              "    <tr>\n",
              "      <th>8</th>\n",
              "      <td>2013</td>\n",
              "      <td>L</td>\n",
              "      <td>1993-09-24 00:00:00</td>\n",
              "      <td>NaT</td>\n",
              "      <td>3.333333</td>\n",
              "      <td>3.250000</td>\n",
              "      <td>3.416667</td>\n",
              "      <td>3.166667</td>\n",
              "      <td>140</td>\n",
              "    </tr>\n",
              "    <tr>\n",
              "      <th>11</th>\n",
              "      <td>2013</td>\n",
              "      <td>L</td>\n",
              "      <td>1994-11-15 00:00:00</td>\n",
              "      <td>NaT</td>\n",
              "      <td>3.083333</td>\n",
              "      <td>3.083333</td>\n",
              "      <td>3.166667</td>\n",
              "      <td>2.833333</td>\n",
              "      <td>138</td>\n",
              "    </tr>\n",
              "    <tr>\n",
              "      <th>12</th>\n",
              "      <td>2013</td>\n",
              "      <td>L</td>\n",
              "      <td>1993-10-27 00:00:00</td>\n",
              "      <td>NaT</td>\n",
              "      <td>3.166667</td>\n",
              "      <td>3.000000</td>\n",
              "      <td>3.416667</td>\n",
              "      <td>0.000000</td>\n",
              "      <td>72</td>\n",
              "    </tr>\n",
              "    <tr>\n",
              "      <th>...</th>\n",
              "      <td>...</td>\n",
              "      <td>...</td>\n",
              "      <td>...</td>\n",
              "      <td>...</td>\n",
              "      <td>...</td>\n",
              "      <td>...</td>\n",
              "      <td>...</td>\n",
              "      <td>...</td>\n",
              "      <td>...</td>\n",
              "    </tr>\n",
              "    <tr>\n",
              "      <th>5109</th>\n",
              "      <td>2005</td>\n",
              "      <td>L</td>\n",
              "      <td>1985-07-06 00:00:00</td>\n",
              "      <td>NaT</td>\n",
              "      <td>2.833333</td>\n",
              "      <td>3.428571</td>\n",
              "      <td>2.416667</td>\n",
              "      <td>0.000000</td>\n",
              "      <td>140</td>\n",
              "    </tr>\n",
              "    <tr>\n",
              "      <th>5113</th>\n",
              "      <td>2005</td>\n",
              "      <td>L</td>\n",
              "      <td>1987-12-17 00:00:00</td>\n",
              "      <td>NaT</td>\n",
              "      <td>0.416667</td>\n",
              "      <td>1.571429</td>\n",
              "      <td>0.000000</td>\n",
              "      <td>0.000000</td>\n",
              "      <td>38</td>\n",
              "    </tr>\n",
              "    <tr>\n",
              "      <th>5114</th>\n",
              "      <td>2005</td>\n",
              "      <td>P</td>\n",
              "      <td>1987-09-03 00:00:00</td>\n",
              "      <td>NaT</td>\n",
              "      <td>3.750000</td>\n",
              "      <td>1.642857</td>\n",
              "      <td>0.000000</td>\n",
              "      <td>0.000000</td>\n",
              "      <td>42</td>\n",
              "    </tr>\n",
              "    <tr>\n",
              "      <th>5115</th>\n",
              "      <td>2005</td>\n",
              "      <td>P</td>\n",
              "      <td>1987-05-10 00:00:00</td>\n",
              "      <td>NaT</td>\n",
              "      <td>3.333333</td>\n",
              "      <td>3.142857</td>\n",
              "      <td>2.333333</td>\n",
              "      <td>0.000000</td>\n",
              "      <td>138</td>\n",
              "    </tr>\n",
              "    <tr>\n",
              "      <th>5124</th>\n",
              "      <td>2005</td>\n",
              "      <td>L</td>\n",
              "      <td>1983-04-20 00:00:00</td>\n",
              "      <td>NaT</td>\n",
              "      <td>0.166667</td>\n",
              "      <td>0.000000</td>\n",
              "      <td>0.000000</td>\n",
              "      <td>0.000000</td>\n",
              "      <td>4</td>\n",
              "    </tr>\n",
              "  </tbody>\n",
              "</table>\n",
              "<p>1458 rows × 9 columns</p>\n",
              "</div>"
            ],
            "text/plain": [
              "      ANGKATAN JK              TGLAHIR TGLULUS      IPK1      IPK2      IPK3  \\\n",
              "4         2013  L  1995-06-15 00:00:00     NaT  3.083333  3.083333  3.000000   \n",
              "7         2013  L  2013-02-23 00:00:00     NaT  3.333333  3.416667  3.750000   \n",
              "8         2013  L  1993-09-24 00:00:00     NaT  3.333333  3.250000  3.416667   \n",
              "11        2013  L  1994-11-15 00:00:00     NaT  3.083333  3.083333  3.166667   \n",
              "12        2013  L  1993-10-27 00:00:00     NaT  3.166667  3.000000  3.416667   \n",
              "...        ... ..                  ...     ...       ...       ...       ...   \n",
              "5109      2005  L  1985-07-06 00:00:00     NaT  2.833333  3.428571  2.416667   \n",
              "5113      2005  L  1987-12-17 00:00:00     NaT  0.416667  1.571429  0.000000   \n",
              "5114      2005  P  1987-09-03 00:00:00     NaT  3.750000  1.642857  0.000000   \n",
              "5115      2005  P  1987-05-10 00:00:00     NaT  3.333333  3.142857  2.333333   \n",
              "5124      2005  L  1983-04-20 00:00:00     NaT  0.166667  0.000000  0.000000   \n",
              "\n",
              "          IPK4  SKS  \n",
              "4     2.000000  126  \n",
              "7     3.333333  146  \n",
              "8     3.166667  140  \n",
              "11    2.833333  138  \n",
              "12    0.000000   72  \n",
              "...        ...  ...  \n",
              "5109  0.000000  140  \n",
              "5113  0.000000   38  \n",
              "5114  0.000000   42  \n",
              "5115  0.000000  138  \n",
              "5124  0.000000    4  \n",
              "\n",
              "[1458 rows x 9 columns]"
            ]
          },
          "metadata": {
            "tags": []
          },
          "execution_count": 6
        }
      ]
    },
    {
      "cell_type": "code",
      "metadata": {
        "id": "ieoa3T0ANPl4",
        "colab_type": "code",
        "colab": {}
      },
      "source": [
        "# Gunakan data dengan tglulus tidak kosong\n",
        "clean_data = data[data.TGLULUS.notnull()]"
      ],
      "execution_count": 0,
      "outputs": []
    },
    {
      "cell_type": "code",
      "metadata": {
        "id": "oIJX5NJPNPl_",
        "colab_type": "code",
        "colab": {},
        "outputId": "01cf9d5e-f5ba-4d0a-fdb8-953d374a7971"
      },
      "source": [
        "clean_data.shape"
      ],
      "execution_count": 0,
      "outputs": [
        {
          "output_type": "execute_result",
          "data": {
            "text/plain": [
              "(3667, 9)"
            ]
          },
          "metadata": {
            "tags": []
          },
          "execution_count": 8
        }
      ]
    },
    {
      "cell_type": "code",
      "metadata": {
        "id": "IQxTi5iRNPmC",
        "colab_type": "code",
        "colab": {},
        "outputId": "9ea1e5ae-6208-435b-cd28-fa4c5666f420"
      },
      "source": [
        "# Cek juga data angkatan yang kosong\n",
        "clean_data[clean_data.ANGKATAN.isnull()]"
      ],
      "execution_count": 0,
      "outputs": [
        {
          "output_type": "execute_result",
          "data": {
            "text/html": [
              "<div>\n",
              "<style scoped>\n",
              "    .dataframe tbody tr th:only-of-type {\n",
              "        vertical-align: middle;\n",
              "    }\n",
              "\n",
              "    .dataframe tbody tr th {\n",
              "        vertical-align: top;\n",
              "    }\n",
              "\n",
              "    .dataframe thead th {\n",
              "        text-align: right;\n",
              "    }\n",
              "</style>\n",
              "<table border=\"1\" class=\"dataframe\">\n",
              "  <thead>\n",
              "    <tr style=\"text-align: right;\">\n",
              "      <th></th>\n",
              "      <th>ANGKATAN</th>\n",
              "      <th>JK</th>\n",
              "      <th>TGLAHIR</th>\n",
              "      <th>TGLULUS</th>\n",
              "      <th>IPK1</th>\n",
              "      <th>IPK2</th>\n",
              "      <th>IPK3</th>\n",
              "      <th>IPK4</th>\n",
              "      <th>SKS</th>\n",
              "    </tr>\n",
              "  </thead>\n",
              "  <tbody>\n",
              "  </tbody>\n",
              "</table>\n",
              "</div>"
            ],
            "text/plain": [
              "Empty DataFrame\n",
              "Columns: [ANGKATAN, JK, TGLAHIR, TGLULUS, IPK1, IPK2, IPK3, IPK4, SKS]\n",
              "Index: []"
            ]
          },
          "metadata": {
            "tags": []
          },
          "execution_count": 9
        }
      ]
    },
    {
      "cell_type": "code",
      "metadata": {
        "id": "0-vJA4NYNPmG",
        "colab_type": "code",
        "colab": {}
      },
      "source": [
        "# Gunakan data dengan angkatan tidak kosong\n",
        "fix_data = clean_data[clean_data.ANGKATAN.notnull()]"
      ],
      "execution_count": 0,
      "outputs": []
    },
    {
      "cell_type": "markdown",
      "metadata": {
        "id": "l-3kLXXXNPmK",
        "colab_type": "text"
      },
      "source": [
        "## Proses pembuatan label/status"
      ]
    },
    {
      "cell_type": "code",
      "metadata": {
        "id": "UkiGAG_ONPmL",
        "colab_type": "code",
        "colab": {}
      },
      "source": [
        "# Tambah atribute Tglmulai diambil dari angkatan mhs, diasumsikan 1 agustus\n",
        "fix_data[\"TGLMULAI\"] = pd.to_datetime(dict(year=fix_data.ANGKATAN, month=8, day=1))"
      ],
      "execution_count": 0,
      "outputs": []
    },
    {
      "cell_type": "code",
      "metadata": {
        "id": "_15vOAfUNPmQ",
        "colab_type": "code",
        "colab": {},
        "outputId": "2ca3dd96-9ee5-4a50-e731-e32d1d34816b"
      },
      "source": [
        "fix_data.head()"
      ],
      "execution_count": 0,
      "outputs": [
        {
          "output_type": "execute_result",
          "data": {
            "text/html": [
              "<div>\n",
              "<style scoped>\n",
              "    .dataframe tbody tr th:only-of-type {\n",
              "        vertical-align: middle;\n",
              "    }\n",
              "\n",
              "    .dataframe tbody tr th {\n",
              "        vertical-align: top;\n",
              "    }\n",
              "\n",
              "    .dataframe thead th {\n",
              "        text-align: right;\n",
              "    }\n",
              "</style>\n",
              "<table border=\"1\" class=\"dataframe\">\n",
              "  <thead>\n",
              "    <tr style=\"text-align: right;\">\n",
              "      <th></th>\n",
              "      <th>ANGKATAN</th>\n",
              "      <th>JK</th>\n",
              "      <th>TGLAHIR</th>\n",
              "      <th>TGLULUS</th>\n",
              "      <th>IPK1</th>\n",
              "      <th>IPK2</th>\n",
              "      <th>IPK3</th>\n",
              "      <th>IPK4</th>\n",
              "      <th>SKS</th>\n",
              "      <th>TGLMULAI</th>\n",
              "    </tr>\n",
              "  </thead>\n",
              "  <tbody>\n",
              "    <tr>\n",
              "      <th>0</th>\n",
              "      <td>2013</td>\n",
              "      <td>L</td>\n",
              "      <td>1993-10-14 00:00:00</td>\n",
              "      <td>2016-09-26</td>\n",
              "      <td>3.500000</td>\n",
              "      <td>3.833333</td>\n",
              "      <td>4.000000</td>\n",
              "      <td>3.500000</td>\n",
              "      <td>144</td>\n",
              "      <td>2013-08-01</td>\n",
              "    </tr>\n",
              "    <tr>\n",
              "      <th>1</th>\n",
              "      <td>2013</td>\n",
              "      <td>L</td>\n",
              "      <td>1995-05-06 00:00:00</td>\n",
              "      <td>2017-03-25</td>\n",
              "      <td>3.500000</td>\n",
              "      <td>3.750000</td>\n",
              "      <td>3.333333</td>\n",
              "      <td>3.250000</td>\n",
              "      <td>144</td>\n",
              "      <td>2013-08-01</td>\n",
              "    </tr>\n",
              "    <tr>\n",
              "      <th>2</th>\n",
              "      <td>2013</td>\n",
              "      <td>L</td>\n",
              "      <td>1995-01-31 00:00:00</td>\n",
              "      <td>2016-09-26</td>\n",
              "      <td>3.166667</td>\n",
              "      <td>3.083333</td>\n",
              "      <td>3.333333</td>\n",
              "      <td>3.250000</td>\n",
              "      <td>144</td>\n",
              "      <td>2013-08-01</td>\n",
              "    </tr>\n",
              "    <tr>\n",
              "      <th>3</th>\n",
              "      <td>2013</td>\n",
              "      <td>P</td>\n",
              "      <td>1996-01-22 00:00:00</td>\n",
              "      <td>2016-12-24</td>\n",
              "      <td>3.500000</td>\n",
              "      <td>3.250000</td>\n",
              "      <td>3.500000</td>\n",
              "      <td>3.416667</td>\n",
              "      <td>144</td>\n",
              "      <td>2013-08-01</td>\n",
              "    </tr>\n",
              "    <tr>\n",
              "      <th>5</th>\n",
              "      <td>2013</td>\n",
              "      <td>L</td>\n",
              "      <td>1994-12-11 00:00:00</td>\n",
              "      <td>2017-03-25</td>\n",
              "      <td>3.250000</td>\n",
              "      <td>3.166667</td>\n",
              "      <td>3.250000</td>\n",
              "      <td>3.166667</td>\n",
              "      <td>144</td>\n",
              "      <td>2013-08-01</td>\n",
              "    </tr>\n",
              "  </tbody>\n",
              "</table>\n",
              "</div>"
            ],
            "text/plain": [
              "   ANGKATAN JK              TGLAHIR    TGLULUS      IPK1      IPK2      IPK3  \\\n",
              "0      2013  L  1993-10-14 00:00:00 2016-09-26  3.500000  3.833333  4.000000   \n",
              "1      2013  L  1995-05-06 00:00:00 2017-03-25  3.500000  3.750000  3.333333   \n",
              "2      2013  L  1995-01-31 00:00:00 2016-09-26  3.166667  3.083333  3.333333   \n",
              "3      2013  P  1996-01-22 00:00:00 2016-12-24  3.500000  3.250000  3.500000   \n",
              "5      2013  L  1994-12-11 00:00:00 2017-03-25  3.250000  3.166667  3.250000   \n",
              "\n",
              "       IPK4  SKS   TGLMULAI  \n",
              "0  3.500000  144 2013-08-01  \n",
              "1  3.250000  144 2013-08-01  \n",
              "2  3.250000  144 2013-08-01  \n",
              "3  3.416667  144 2013-08-01  \n",
              "5  3.166667  144 2013-08-01  "
            ]
          },
          "metadata": {
            "tags": []
          },
          "execution_count": 12
        }
      ]
    },
    {
      "cell_type": "code",
      "metadata": {
        "id": "OfH-js1MNPmY",
        "colab_type": "code",
        "colab": {}
      },
      "source": [
        "# Hitung masa studi(bulan)\n",
        "fix_data['MSTUDI'] = (fix_data['TGLULUS']-fix_data['TGLMULAI'])/np.timedelta64(1, 'M')"
      ],
      "execution_count": 0,
      "outputs": []
    },
    {
      "cell_type": "code",
      "metadata": {
        "id": "LxOIcTduNPmb",
        "colab_type": "code",
        "colab": {},
        "outputId": "f4e6e37e-df3a-4f82-e526-7e55e31d92a2"
      },
      "source": [
        "fix_data.head()"
      ],
      "execution_count": 0,
      "outputs": [
        {
          "output_type": "execute_result",
          "data": {
            "text/html": [
              "<div>\n",
              "<style scoped>\n",
              "    .dataframe tbody tr th:only-of-type {\n",
              "        vertical-align: middle;\n",
              "    }\n",
              "\n",
              "    .dataframe tbody tr th {\n",
              "        vertical-align: top;\n",
              "    }\n",
              "\n",
              "    .dataframe thead th {\n",
              "        text-align: right;\n",
              "    }\n",
              "</style>\n",
              "<table border=\"1\" class=\"dataframe\">\n",
              "  <thead>\n",
              "    <tr style=\"text-align: right;\">\n",
              "      <th></th>\n",
              "      <th>ANGKATAN</th>\n",
              "      <th>JK</th>\n",
              "      <th>TGLAHIR</th>\n",
              "      <th>TGLULUS</th>\n",
              "      <th>IPK1</th>\n",
              "      <th>IPK2</th>\n",
              "      <th>IPK3</th>\n",
              "      <th>IPK4</th>\n",
              "      <th>SKS</th>\n",
              "      <th>TGLMULAI</th>\n",
              "      <th>MSTUDI</th>\n",
              "    </tr>\n",
              "  </thead>\n",
              "  <tbody>\n",
              "    <tr>\n",
              "      <th>0</th>\n",
              "      <td>2013</td>\n",
              "      <td>L</td>\n",
              "      <td>1993-10-14 00:00:00</td>\n",
              "      <td>2016-09-26</td>\n",
              "      <td>3.500000</td>\n",
              "      <td>3.833333</td>\n",
              "      <td>4.000000</td>\n",
              "      <td>3.500000</td>\n",
              "      <td>144</td>\n",
              "      <td>2013-08-01</td>\n",
              "      <td>37.848826</td>\n",
              "    </tr>\n",
              "    <tr>\n",
              "      <th>1</th>\n",
              "      <td>2013</td>\n",
              "      <td>L</td>\n",
              "      <td>1995-05-06 00:00:00</td>\n",
              "      <td>2017-03-25</td>\n",
              "      <td>3.500000</td>\n",
              "      <td>3.750000</td>\n",
              "      <td>3.333333</td>\n",
              "      <td>3.250000</td>\n",
              "      <td>144</td>\n",
              "      <td>2013-08-01</td>\n",
              "      <td>43.762706</td>\n",
              "    </tr>\n",
              "    <tr>\n",
              "      <th>2</th>\n",
              "      <td>2013</td>\n",
              "      <td>L</td>\n",
              "      <td>1995-01-31 00:00:00</td>\n",
              "      <td>2016-09-26</td>\n",
              "      <td>3.166667</td>\n",
              "      <td>3.083333</td>\n",
              "      <td>3.333333</td>\n",
              "      <td>3.250000</td>\n",
              "      <td>144</td>\n",
              "      <td>2013-08-01</td>\n",
              "      <td>37.848826</td>\n",
              "    </tr>\n",
              "    <tr>\n",
              "      <th>3</th>\n",
              "      <td>2013</td>\n",
              "      <td>P</td>\n",
              "      <td>1996-01-22 00:00:00</td>\n",
              "      <td>2016-12-24</td>\n",
              "      <td>3.500000</td>\n",
              "      <td>3.250000</td>\n",
              "      <td>3.500000</td>\n",
              "      <td>3.416667</td>\n",
              "      <td>144</td>\n",
              "      <td>2013-08-01</td>\n",
              "      <td>40.772911</td>\n",
              "    </tr>\n",
              "    <tr>\n",
              "      <th>5</th>\n",
              "      <td>2013</td>\n",
              "      <td>L</td>\n",
              "      <td>1994-12-11 00:00:00</td>\n",
              "      <td>2017-03-25</td>\n",
              "      <td>3.250000</td>\n",
              "      <td>3.166667</td>\n",
              "      <td>3.250000</td>\n",
              "      <td>3.166667</td>\n",
              "      <td>144</td>\n",
              "      <td>2013-08-01</td>\n",
              "      <td>43.762706</td>\n",
              "    </tr>\n",
              "  </tbody>\n",
              "</table>\n",
              "</div>"
            ],
            "text/plain": [
              "   ANGKATAN JK              TGLAHIR    TGLULUS      IPK1      IPK2      IPK3  \\\n",
              "0      2013  L  1993-10-14 00:00:00 2016-09-26  3.500000  3.833333  4.000000   \n",
              "1      2013  L  1995-05-06 00:00:00 2017-03-25  3.500000  3.750000  3.333333   \n",
              "2      2013  L  1995-01-31 00:00:00 2016-09-26  3.166667  3.083333  3.333333   \n",
              "3      2013  P  1996-01-22 00:00:00 2016-12-24  3.500000  3.250000  3.500000   \n",
              "5      2013  L  1994-12-11 00:00:00 2017-03-25  3.250000  3.166667  3.250000   \n",
              "\n",
              "       IPK4  SKS   TGLMULAI     MSTUDI  \n",
              "0  3.500000  144 2013-08-01  37.848826  \n",
              "1  3.250000  144 2013-08-01  43.762706  \n",
              "2  3.250000  144 2013-08-01  37.848826  \n",
              "3  3.416667  144 2013-08-01  40.772911  \n",
              "5  3.166667  144 2013-08-01  43.762706  "
            ]
          },
          "metadata": {
            "tags": []
          },
          "execution_count": 14
        }
      ]
    },
    {
      "cell_type": "code",
      "metadata": {
        "id": "cq4PaQ5uNPmf",
        "colab_type": "code",
        "colab": {}
      },
      "source": [
        "# Tambat atribut status dimana <= 48 bulan = lulus tepat waktu\n",
        "fix_data['STATUS'] = np.where(fix_data['MSTUDI']>48, 'TDK TEPAT', 'TEPAT')"
      ],
      "execution_count": 0,
      "outputs": []
    },
    {
      "cell_type": "code",
      "metadata": {
        "id": "BvrcGS0cNPmj",
        "colab_type": "code",
        "colab": {},
        "outputId": "4af4e291-4f45-4642-9c8d-a3f556749df1"
      },
      "source": [
        "fix_data.head()"
      ],
      "execution_count": 0,
      "outputs": [
        {
          "output_type": "execute_result",
          "data": {
            "text/html": [
              "<div>\n",
              "<style scoped>\n",
              "    .dataframe tbody tr th:only-of-type {\n",
              "        vertical-align: middle;\n",
              "    }\n",
              "\n",
              "    .dataframe tbody tr th {\n",
              "        vertical-align: top;\n",
              "    }\n",
              "\n",
              "    .dataframe thead th {\n",
              "        text-align: right;\n",
              "    }\n",
              "</style>\n",
              "<table border=\"1\" class=\"dataframe\">\n",
              "  <thead>\n",
              "    <tr style=\"text-align: right;\">\n",
              "      <th></th>\n",
              "      <th>ANGKATAN</th>\n",
              "      <th>JK</th>\n",
              "      <th>TGLAHIR</th>\n",
              "      <th>TGLULUS</th>\n",
              "      <th>IPK1</th>\n",
              "      <th>IPK2</th>\n",
              "      <th>IPK3</th>\n",
              "      <th>IPK4</th>\n",
              "      <th>SKS</th>\n",
              "      <th>TGLMULAI</th>\n",
              "      <th>MSTUDI</th>\n",
              "      <th>STATUS</th>\n",
              "    </tr>\n",
              "  </thead>\n",
              "  <tbody>\n",
              "    <tr>\n",
              "      <th>0</th>\n",
              "      <td>2013</td>\n",
              "      <td>L</td>\n",
              "      <td>1993-10-14 00:00:00</td>\n",
              "      <td>2016-09-26</td>\n",
              "      <td>3.500000</td>\n",
              "      <td>3.833333</td>\n",
              "      <td>4.000000</td>\n",
              "      <td>3.500000</td>\n",
              "      <td>144</td>\n",
              "      <td>2013-08-01</td>\n",
              "      <td>37.848826</td>\n",
              "      <td>TEPAT</td>\n",
              "    </tr>\n",
              "    <tr>\n",
              "      <th>1</th>\n",
              "      <td>2013</td>\n",
              "      <td>L</td>\n",
              "      <td>1995-05-06 00:00:00</td>\n",
              "      <td>2017-03-25</td>\n",
              "      <td>3.500000</td>\n",
              "      <td>3.750000</td>\n",
              "      <td>3.333333</td>\n",
              "      <td>3.250000</td>\n",
              "      <td>144</td>\n",
              "      <td>2013-08-01</td>\n",
              "      <td>43.762706</td>\n",
              "      <td>TEPAT</td>\n",
              "    </tr>\n",
              "    <tr>\n",
              "      <th>2</th>\n",
              "      <td>2013</td>\n",
              "      <td>L</td>\n",
              "      <td>1995-01-31 00:00:00</td>\n",
              "      <td>2016-09-26</td>\n",
              "      <td>3.166667</td>\n",
              "      <td>3.083333</td>\n",
              "      <td>3.333333</td>\n",
              "      <td>3.250000</td>\n",
              "      <td>144</td>\n",
              "      <td>2013-08-01</td>\n",
              "      <td>37.848826</td>\n",
              "      <td>TEPAT</td>\n",
              "    </tr>\n",
              "    <tr>\n",
              "      <th>3</th>\n",
              "      <td>2013</td>\n",
              "      <td>P</td>\n",
              "      <td>1996-01-22 00:00:00</td>\n",
              "      <td>2016-12-24</td>\n",
              "      <td>3.500000</td>\n",
              "      <td>3.250000</td>\n",
              "      <td>3.500000</td>\n",
              "      <td>3.416667</td>\n",
              "      <td>144</td>\n",
              "      <td>2013-08-01</td>\n",
              "      <td>40.772911</td>\n",
              "      <td>TEPAT</td>\n",
              "    </tr>\n",
              "    <tr>\n",
              "      <th>5</th>\n",
              "      <td>2013</td>\n",
              "      <td>L</td>\n",
              "      <td>1994-12-11 00:00:00</td>\n",
              "      <td>2017-03-25</td>\n",
              "      <td>3.250000</td>\n",
              "      <td>3.166667</td>\n",
              "      <td>3.250000</td>\n",
              "      <td>3.166667</td>\n",
              "      <td>144</td>\n",
              "      <td>2013-08-01</td>\n",
              "      <td>43.762706</td>\n",
              "      <td>TEPAT</td>\n",
              "    </tr>\n",
              "  </tbody>\n",
              "</table>\n",
              "</div>"
            ],
            "text/plain": [
              "   ANGKATAN JK              TGLAHIR    TGLULUS      IPK1      IPK2      IPK3  \\\n",
              "0      2013  L  1993-10-14 00:00:00 2016-09-26  3.500000  3.833333  4.000000   \n",
              "1      2013  L  1995-05-06 00:00:00 2017-03-25  3.500000  3.750000  3.333333   \n",
              "2      2013  L  1995-01-31 00:00:00 2016-09-26  3.166667  3.083333  3.333333   \n",
              "3      2013  P  1996-01-22 00:00:00 2016-12-24  3.500000  3.250000  3.500000   \n",
              "5      2013  L  1994-12-11 00:00:00 2017-03-25  3.250000  3.166667  3.250000   \n",
              "\n",
              "       IPK4  SKS   TGLMULAI     MSTUDI STATUS  \n",
              "0  3.500000  144 2013-08-01  37.848826  TEPAT  \n",
              "1  3.250000  144 2013-08-01  43.762706  TEPAT  \n",
              "2  3.250000  144 2013-08-01  37.848826  TEPAT  \n",
              "3  3.416667  144 2013-08-01  40.772911  TEPAT  \n",
              "5  3.166667  144 2013-08-01  43.762706  TEPAT  "
            ]
          },
          "metadata": {
            "tags": []
          },
          "execution_count": 16
        }
      ]
    },
    {
      "cell_type": "markdown",
      "metadata": {
        "id": "o9AleU4GNPmo",
        "colab_type": "text"
      },
      "source": [
        "## Korelasi fitur"
      ]
    },
    {
      "cell_type": "code",
      "metadata": {
        "id": "2Jc1Z6HhNPmp",
        "colab_type": "code",
        "colab": {},
        "outputId": "46cf9904-6074-4919-c7ca-ac2977a6b318"
      },
      "source": [
        "fix_data_corr = fix_data.corr().abs()\n",
        "print(fix_data_corr.to_string())"
      ],
      "execution_count": 0,
      "outputs": [
        {
          "output_type": "stream",
          "text": [
            "          ANGKATAN      IPK1      IPK2      IPK3      IPK4       SKS    MSTUDI\n",
            "ANGKATAN  1.000000  0.317715  0.228846  0.373670  0.511537  0.398730  0.290319\n",
            "IPK1      0.317715  1.000000  0.610548  0.594985  0.388549  0.120415  0.347482\n",
            "IPK2      0.228846  0.610548  1.000000  0.661845  0.376113  0.076086  0.401056\n",
            "IPK3      0.373670  0.594985  0.661845  1.000000  0.568090  0.130467  0.463412\n",
            "IPK4      0.511537  0.388549  0.376113  0.568090  1.000000  0.219883  0.335144\n",
            "SKS       0.398730  0.120415  0.076086  0.130467  0.219883  1.000000  0.156836\n",
            "MSTUDI    0.290319  0.347482  0.401056  0.463412  0.335144  0.156836  1.000000\n"
          ],
          "name": "stdout"
        }
      ]
    },
    {
      "cell_type": "code",
      "metadata": {
        "id": "2QsvpreMNPmv",
        "colab_type": "code",
        "colab": {}
      },
      "source": [
        "# Export data ke Excel\n",
        "fix_data.to_excel(r'FixData.xlsx',index = False)"
      ],
      "execution_count": 0,
      "outputs": []
    },
    {
      "cell_type": "code",
      "metadata": {
        "id": "_1iCwHpzNPmy",
        "colab_type": "code",
        "colab": {}
      },
      "source": [
        ""
      ],
      "execution_count": 0,
      "outputs": []
    }
  ]
}